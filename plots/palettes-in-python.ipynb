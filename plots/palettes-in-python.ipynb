{
 "cells": [
  {
   "cell_type": "markdown",
   "metadata": {},
   "source": [
    "# Notes for using colors in python"
   ]
  },
  {
   "cell_type": "markdown",
   "metadata": {},
   "source": [
    "#### Import relevant libraries"
   ]
  },
  {
   "cell_type": "code",
   "execution_count": 1,
   "metadata": {},
   "outputs": [],
   "source": [
    "import matplotlib \n",
    "import matplotlib.colors\n",
    "from matplotlib import cm\n",
    "from matplotlib import pyplot as plt\n",
    "from matplotlib.patches import Rectangle\n",
    "import seaborn as sns\n",
    "import numpy as np\n",
    "import colorsys"
   ]
  },
  {
   "cell_type": "markdown",
   "metadata": {},
   "source": [
    "#### Define method for displaying a color"
   ]
  },
  {
   "cell_type": "code",
   "execution_count": 2,
   "metadata": {},
   "outputs": [],
   "source": [
    "def show_color(color):\n",
    "    \"\"\"\n",
    "    Display an RGB color in jupyter notebook\n",
    "    Input: an RGB color (R,G,B) in [0,255]\n",
    "    \"\"\"\n",
    "    color = color[0]/255,color[1]/255,color[2]/255\n",
    "    fig,ax = plt.subplots(figsize=(0.5,0.2))\n",
    "    _ = ax.add_patch(Rectangle((0, 0), 0.4,0.2,color=color))\n",
    "    ax.spines[\"left\"].set_visible(False)\n",
    "    ax.spines[\"bottom\"].set_visible(False)\n",
    "    ax.spines[\"right\"].set_visible(False)\n",
    "    ax.spines[\"top\"].set_visible(False)\n",
    "    _ = ax.set_xticks([])\n",
    "    _ = ax.set_yticks([])\n",
    "    _ = ax.set_xlim([0,0.4])\n",
    "    _ = ax.set_ylim([0,0.2])\n",
    "\n",
    "# Convert hexadecimal color to decimal color\n",
    "def hex2dec(h):\n",
    "    \"\"\"\n",
    "    Input: A string for hexadecimal representation of a color, like #fcba03, not case sensitive\n",
    "    Output: A tuple for decimal representation of (R,G,B) color  \n",
    "    \"\"\"\n",
    "    assert h.startswith(\"#\"),\"Hexadecimal should starts with #\"\n",
    "    assert len(h) == 7,\"Hexadecimal color has wrong length\"\n",
    "    h = h[1:]\n",
    "    r,g,b = int(h[0:2],16),int(h[2:4],16),int(h[4:6],16)\n",
    "    return r,g,b"
   ]
  },
  {
   "cell_type": "code",
   "execution_count": 3,
   "metadata": {},
   "outputs": [
    {
     "data": {
      "text/plain": [
       "(252, 186, 3)"
      ]
     },
     "execution_count": 3,
     "metadata": {},
     "output_type": "execute_result"
    }
   ],
   "source": [
    "hex2dec(\"#fCBA03\")"
   ]
  },
  {
   "cell_type": "code",
   "execution_count": 4,
   "metadata": {},
   "outputs": [
    {
     "data": {
      "image/png": "[encoded data removed]",
      "text/plain": [
       "<Figure size 36x14.4 with 1 Axes>"
      ]
     },
     "metadata": {},
     "output_type": "display_data"
    }
   ],
   "source": [
    "show_color(color=(252, 186, 3))"
   ]
  },
  {
   "cell_type": "markdown",
   "metadata": {},
   "source": [
    "## 一些基础\n",
    "### Representation of a color\n",
    "#### RGB color\n",
    "- define by values of R,G,B channel\n",
    "- 十六进制(Hexadecimal) representation\n",
    "  - Like `#FCBA03`\n",
    "  - From  black `#000000` to  white `#FFFFFF`\n",
    "- 十进制(Decimal) representation\n",
    "  - From black (0,0,0) to white (255,255,255)\n",
    "  - Colors in matplotlib is usually decimal color divided by 255, or black (0,0,0) to white (1,1,1)\n",
    "  \n",
    "#### HSV(B,L) color\n",
    "  - **H**ue: 色相\n",
    "  - **S**aturation: 饱和度\n",
    "  - **V**alue , **B**rightness or **L**ightness:亮度\n",
    "  - 比RGB编码对人类感知更友好，各种软件调色盘的颜色一般都按(H,S,V)分布\n",
    "  - 一般高亮度，高饱和度的颜色会显得比较刺眼，所以最好避免使用\n",
    "\n",
    "#### Conversion between `rgb` and `hsv`\n",
    "  - You can use native package [colorsys](https://docs.python.org/3/library/colorsys.html) in python3\n",
    "  - See following example"
   ]
  },
  {
   "cell_type": "code",
   "execution_count": 5,
   "metadata": {},
   "outputs": [
    {
     "data": {
      "text/plain": [
       "(0.5, 0.5, 0.4)"
      ]
     },
     "execution_count": 5,
     "metadata": {},
     "output_type": "execute_result"
    }
   ],
   "source": [
    "colorsys.rgb_to_hsv(0.2, 0.4, 0.4)"
   ]
  },
  {
   "cell_type": "code",
   "execution_count": 6,
   "metadata": {},
   "outputs": [
    {
     "data": {
      "text/plain": [
       "(0.2, 0.4, 0.4)"
      ]
     },
     "execution_count": 6,
     "metadata": {},
     "output_type": "execute_result"
    }
   ],
   "source": [
    "colorsys.hsv_to_rgb(0.5, 0.5, 0.4)"
   ]
  },
  {
   "cell_type": "markdown",
   "metadata": {},
   "source": [
    "#### 改变一个RGB颜色的亮度和饱和度\n",
    "- 将RGB转为HSV\n",
    "- 固定H不变，调整S或V\n",
    "- 转回RGB\n",
    "- 找一个带调色盘的软件手动选取当然也是可以的"
   ]
  },
  {
   "cell_type": "code",
   "execution_count": 7,
   "metadata": {},
   "outputs": [],
   "source": [
    "def changeSL(color,S=1,V=1):\n",
    "    \"\"\"\n",
    "    Input: an RGB color (R,G,B) in [0,255]\n",
    "    S: multiplier for saturation\n",
    "    V: multiplier for brightness\n",
    "    \"\"\"\n",
    "    \n",
    "    color_rgb = (color[0]/255, color[1]/255, color[2]/255)\n",
    "    color_hsv = colorsys.rgb_to_hsv(*color_rgb)\n",
    "    color_hsv = color_hsv[0],min(color_hsv[1]*S,1),min(color_hsv[2]*V,1)\n",
    "    color_rgb = colorsys.hsv_to_rgb(*color_hsv)\n",
    "    return color_rgb[0]*255,color_rgb[1]*255,color_rgb[2]*255"
   ]
  },
  {
   "cell_type": "code",
   "execution_count": 8,
   "metadata": {},
   "outputs": [
    {
     "name": "stdout",
     "output_type": "stream",
     "text": [
      "降低亮度\n"
     ]
    },
    {
     "data": {
      "image/png": "[encoded data removed]",
      "text/plain": [
       "<Figure size 36x14.4 with 1 Axes>"
      ]
     },
     "metadata": {},
     "output_type": "display_data"
    },
    {
     "data": {
      "image/png": "[encoded data removed]",
      "text/plain": [
       "<Figure size 36x14.4 with 1 Axes>"
      ]
     },
     "metadata": {},
     "output_type": "display_data"
    }
   ],
   "source": [
    "print(\"降低亮度\")\n",
    "show_color(color=(252, 186, 3))\n",
    "color_rgb_darken = changeSL((252, 186, 3),V=5/7)\n",
    "show_color(color=color_rgb_darken)"
   ]
  },
  {
   "cell_type": "code",
   "execution_count": 9,
   "metadata": {},
   "outputs": [
    {
     "name": "stdout",
     "output_type": "stream",
     "text": [
      "降低饱和度\n"
     ]
    },
    {
     "data": {
      "image/png": "[encoded data removed]",
      "text/plain": [
       "<Figure size 36x14.4 with 1 Axes>"
      ]
     },
     "metadata": {},
     "output_type": "display_data"
    },
    {
     "data": {
      "image/png": "[encoded data removed]",
      "text/plain": [
       "<Figure size 36x14.4 with 1 Axes>"
      ]
     },
     "metadata": {},
     "output_type": "display_data"
    }
   ],
   "source": [
    "print(\"降低饱和度\")\n",
    "show_color(color=(252, 186, 3))\n",
    "color_rgb_darken = changeSL((252, 186, 3),S=1/2)\n",
    "show_color(color=color_rgb_darken)"
   ]
  },
  {
   "cell_type": "markdown",
   "metadata": {},
   "source": [
    "### python中的作图工具\n",
    "- python中最常见的作图工具有[matplotlib](https://matplotlib.org/)和[seaborn](https://seaborn.pydata.org/tutorial/color_palettes.html)两个\n",
    "- seaborn其实是对matplotlib的一个封装，他的所有作图函数我们都可以基于matplotlib手动实现,但在很多时候可以节约时间\n",
    "- matplotlib 的内置色盘<https://matplotlib.org/stable/tutorials/colors/colormaps.html>\n",
    "- seaborn的内置色盘<https://seaborn.pydata.org/tutorial/color_palettes.html>"
   ]
  },
  {
   "cell_type": "markdown",
   "metadata": {},
   "source": [
    "### 常见的color palette类型以及在python中的实现"
   ]
  },
  {
   "cell_type": "markdown",
   "metadata": {},
   "source": [
    "### qualitative color\n",
    "  - 离散的无序颜色\n",
    "  - 一般用来表示数据的不同类别\n",
    "  - 如果希望突出类别间的差异性，优先使用互补的色相\n",
    "  - 如果希望突出类别间的相似性，优先使用相似的色相\n",
    "  - 好不好看严重依赖个人审美的主观偏好性\n",
    "  - matplotlib的默认qualitative color map叫做`tab10`\n",
    "  - seaborn的默认qualitative color map实际上是亮度和对比度调低的`tab10`"
   ]
  },
  {
   "cell_type": "code",
   "execution_count": 10,
   "metadata": {},
   "outputs": [
    {
     "data": {
      "image/png": "[encoded data removed]",
      "text/plain": [
       "<Figure size 360x36 with 1 Axes>"
      ]
     },
     "metadata": {
      "needs_background": "light"
     },
     "output_type": "display_data"
    }
   ],
   "source": [
    "# matplotlib默认的配色\n",
    "sns.palplot(sns.color_palette(\"tab10\"),size=0.5)"
   ]
  },
  {
   "cell_type": "code",
   "execution_count": 11,
   "metadata": {},
   "outputs": [
    {
     "data": {
      "image/png": "[encoded data removed]",
      "text/plain": [
       "<Figure size 360x36 with 1 Axes>"
      ]
     },
     "metadata": {
      "needs_background": "light"
     },
     "output_type": "display_data"
    }
   ],
   "source": [
    "# seaborn默认的配色,实际上就是tab10降低了一些饱和度\n",
    "# sns.color_palette return list of rgb colors\n",
    "sns.palplot(sns.color_palette(\"deep\"),size=0.5)"
   ]
  },
  {
   "cell_type": "markdown",
   "metadata": {},
   "source": [
    "- R 包[ggsci](https://cran.r-project.org/web/packages/ggsci/vignettes/ggsci.html)提供了一些配色方案,部分pick如下，供参考"
   ]
  },
  {
   "cell_type": "code",
   "execution_count": 12,
   "metadata": {},
   "outputs": [
    {
     "data": {
      "image/png": "[encoded data removed]",
      "text/plain": [
       "<Figure size 180x36 with 1 Axes>"
      ]
     },
     "metadata": {
      "needs_background": "light"
     },
     "output_type": "display_data"
    }
   ],
   "source": [
    "## NEJM palette\n",
    "## 其实就是\"tab10\"取了前五个，调一调深浅饱和度\n",
    "sns.palplot([\"#BC3C29\",\"#0072B5\",\"#E18627\",\"#20854E\",\"#7776B1\"],size=0.5)"
   ]
  },
  {
   "cell_type": "code",
   "execution_count": 13,
   "metadata": {},
   "outputs": [
    {
     "data": {
      "image/png": "[encoded data removed]",
      "text/plain": [
       "<Figure size 180x36 with 1 Axes>"
      ]
     },
     "metadata": {
      "needs_background": "light"
     },
     "output_type": "display_data"
    }
   ],
   "source": [
    "## JAMA palette\n",
    "sns.palplot([\"#B24745\",\"#00A1D5\",\"#E08F44\",\"#79AF97\",\"#374E54\"],size=0.5)"
   ]
  },
  {
   "cell_type": "code",
   "execution_count": 14,
   "metadata": {},
   "outputs": [
    {
     "data": {
      "image/png": "[encoded data removed]",
      "text/plain": [
       "<Figure size 180x36 with 1 Axes>"
      ]
     },
     "metadata": {
      "needs_background": "light"
     },
     "output_type": "display_data"
    }
   ],
   "source": [
    "## JCO plaette\n",
    "sns.palplot([\"#CE534C\",\"#0073C2\",\"#EFC000\",\"#7AA6DD\",\"#868686\"],size=0.5)"
   ]
  },
  {
   "cell_type": "code",
   "execution_count": 15,
   "metadata": {},
   "outputs": [
    {
     "data": {
      "image/png": "[encoded data removed]",
      "text/plain": [
       "<Figure size 180x36 with 1 Axes>"
      ]
     },
     "metadata": {
      "needs_background": "light"
     },
     "output_type": "display_data"
    }
   ],
   "source": [
    "## https://news.uchicago.edu/sites/default/files/attachments/_uchicago.identity.guidelines.pdf\n",
    "sns.palplot([\"#7F0D00\",\"#165F83\",\"#FFA31A\",\"#898F45\",\"#767676\"],size=0.5)"
   ]
  },
  {
   "cell_type": "markdown",
   "metadata": {},
   "source": [
    "- Palette of a Genome Biology paper"
   ]
  },
  {
   "cell_type": "code",
   "execution_count": 16,
   "metadata": {},
   "outputs": [
    {
     "data": {
      "image/png": "[encoded data removed]",
      "text/plain": [
       "<Figure size 216x36 with 1 Axes>"
      ]
     },
     "metadata": {
      "needs_background": "light"
     },
     "output_type": "display_data"
    }
   ],
   "source": [
    "## https://genomebiology.biomedcentral.com/articles/10.1186/s13059-020-02258-y\n",
    "sns.palplot([\"#854671\",\"#D0BECC\",\"#3B6B69\",\"#CAD8D6\",\"#485891\",\"#D0D8EC\"],size=0.5)"
   ]
  },
  {
   "cell_type": "code",
   "execution_count": 17,
   "metadata": {},
   "outputs": [
    {
     "data": {
      "image/png": "[encoded data removed]",
      "text/plain": [
       "<Figure size 360x36 with 1 Axes>"
      ]
     },
     "metadata": {
      "needs_background": "light"
     },
     "output_type": "display_data"
    }
   ],
   "source": [
    "## We shall produce a similar palette from NEJM palette\n",
    "## 增加亮度，降低饱和度\n",
    "NEJM = [\"#BC3C29\",\"#0072B5\",\"#E18627\",\"#20854E\",\"#7776B1\"]\n",
    "colors = []\n",
    "for c in NEJM:\n",
    "    rgb = hex2dec(c)\n",
    "    colors.append(tuple(np.array(rgb)/255))\n",
    "    rgb_desaturated = changeSL(rgb,V=5/4,S=1/4)\n",
    "    colors.append(tuple(np.array(rgb_desaturated)/255))\n",
    "sns.palplot(colors,size=0.5)"
   ]
  },
  {
   "cell_type": "markdown",
   "metadata": {},
   "source": [
    "### Sequential color\n",
    "- 有序的颜色，可以用来表示一个量的多少\n",
    "- 本质上是在色彩空间上的两个点之间插值，即两种颜色之间按特定方法画一条线，在线上按一定的规则取一些点\n",
    "- 可以表示连续数值和离散数值\n",
    "- matplotlib中的`Blues`,`Red`,`Grey`等\n",
    "- 应用场景\n",
    "  - 用heatmap可视化相关系数，基因表达量等\n",
    "  - 根据某个数值在barplot, scatter plot等上面标颜色 (如根据某个marker gene的表达量为单细胞测序数据的tSNE plot上色)"
   ]
  },
  {
   "cell_type": "markdown",
   "metadata": {},
   "source": [
    "- `cm.Blues` is a `matplotlib.colors.LinearSegmentedColormap`, that map a continous numericial value to a color\n",
    "- Individual color can be accessed by function call"
   ]
  },
  {
   "cell_type": "code",
   "execution_count": 18,
   "metadata": {},
   "outputs": [
    {
     "data": {
      "image/png": "[encoded data removed]",
      "text/plain": [
       "<Figure size 360x36 with 1 Axes>"
      ]
     },
     "metadata": {
      "needs_background": "light"
     },
     "output_type": "display_data"
    }
   ],
   "source": [
    "sns.palplot(cm.Blues(np.linspace(0,1,10)),size=0.5)"
   ]
  },
  {
   "cell_type": "code",
   "execution_count": 19,
   "metadata": {},
   "outputs": [
    {
     "data": {
      "text/plain": [
       "<matplotlib.colorbar.Colorbar at 0x7fde732d1390>"
      ]
     },
     "execution_count": 19,
     "metadata": {},
     "output_type": "execute_result"
    },
    {
     "data": {
      "image/png": "[encoded data removed]",
      "text/plain": [
       "<Figure size 338.4x288 with 2 Axes>"
      ]
     },
     "metadata": {
      "needs_background": "light"
     },
     "output_type": "display_data"
    }
   ],
   "source": [
    "x = np.random.randn(200)\n",
    "y = np.random.randn(200)\n",
    "fig,ax = plt.subplots(figsize=(4.7,4))\n",
    "im = ax.scatter(x,y,c=x,cmap=cm.Blues,s=8)\n",
    "fig.colorbar(im, ax=ax)"
   ]
  },
  {
   "cell_type": "markdown",
   "metadata": {},
   "source": [
    "### Diverging color\n",
    "- 有序的颜色，表示向两个方向的变化\n",
    "- 如用热图可视化差异基因的z-score\n",
    "- 理想的diverging color应当\"perceptually uniform\"\n",
    "- 最常见的蓝-白-红的热图，中间的白色部分会比较醒目，这是不期望的\n",
    "- <https://arxiv.org/abs/1509.03700>\n",
    "- 推荐`cm.coolwarm`，`cm.RdBu_r`可能更常用\n",
    "- cm.coolwarm is a `matplotlib.colors.LinearSegmentedColormap`"
   ]
  },
  {
   "cell_type": "code",
   "execution_count": 20,
   "metadata": {},
   "outputs": [
    {
     "data": {
      "image/png": "[encoded data removed]",
      "text/plain": [
       "<Figure size 1440x14.4 with 1 Axes>"
      ]
     },
     "metadata": {
      "needs_background": "light"
     },
     "output_type": "display_data"
    }
   ],
   "source": [
    "# Do not use this\n",
    "cmap = matplotlib.colors.LinearSegmentedColormap.from_list(\"\",[\"blue\",\"white\",\"red\"])\n",
    "sns.palplot(cmap(np.linspace(0.1,0.9,100)),size=0.2)"
   ]
  },
  {
   "cell_type": "code",
   "execution_count": 21,
   "metadata": {},
   "outputs": [
    {
     "data": {
      "image/png": "[encoded data removed]",
      "text/plain": [
       "<Figure size 1440x14.4 with 1 Axes>"
      ]
     },
     "metadata": {
      "needs_background": "light"
     },
     "output_type": "display_data"
    }
   ],
   "source": [
    "# better\n",
    "sns.palplot(sns.color_palette(\"RdBu_r\",n_colors=100),size=0.2)"
   ]
  },
  {
   "cell_type": "code",
   "execution_count": 22,
   "metadata": {},
   "outputs": [
    {
     "data": {
      "image/png": "[encoded data removed]",
      "text/plain": [
       "<Figure size 1440x14.4 with 1 Axes>"
      ]
     },
     "metadata": {
      "needs_background": "light"
     },
     "output_type": "display_data"
    }
   ],
   "source": [
    "# better\n",
    "sns.palplot(sns.color_palette(\"coolwarm\",n_colors=100),size=0.2)"
   ]
  },
  {
   "cell_type": "code",
   "execution_count": 23,
   "metadata": {},
   "outputs": [
    {
     "data": {
      "image/png": "[encoded data removed]",
      "text/plain": [
       "<Figure size 1440x14.4 with 1 Axes>"
      ]
     },
     "metadata": {
      "needs_background": "light"
     },
     "output_type": "display_data"
    }
   ],
   "source": [
    "# Same as last chunk\n",
    "sns.palplot(cm.coolwarm(np.linspace(0,1,100)),size=0.2)"
   ]
  },
  {
   "cell_type": "code",
   "execution_count": null,
   "metadata": {},
   "outputs": [],
   "source": []
  }
 ],
 "metadata": {
  "kernelspec": {
   "display_name": "Python 3",
   "language": "python",
   "name": "python3"
  },
  "language_info": {
   "codemirror_mode": {
    "name": "ipython",
    "version": 3
   },
   "file_extension": ".py",
   "mimetype": "text/x-python",
   "name": "python",
   "nbconvert_exporter": "python",
   "pygments_lexer": "ipython3",
   "version": "3.6.9"
  }
 },
 "nbformat": 4,
 "nbformat_minor": 4
}
