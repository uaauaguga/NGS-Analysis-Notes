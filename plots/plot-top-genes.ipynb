{
 "cells": [
  {
   "cell_type": "code",
   "execution_count": 1,
   "id": "consistent-works",
   "metadata": {},
   "outputs": [],
   "source": [
    "import numpy as np\n",
    "import pandas as pd\n",
    "import matplotlib\n",
    "from matplotlib import pyplot as plt\n",
    "from matplotlib.cm import ScalarMappable\n",
    "from matplotlib import ticker"
   ]
  },
  {
   "cell_type": "markdown",
   "id": "induced-remove",
   "metadata": {},
   "source": [
    "### Load data\n",
    "- `data/top-15-fraction.txt`\n",
    "  - percentage of reads of gene with top 15 TPM in total mapped reads\n",
    "  - rows for genes `\"gene_id|gene_name\"`, columns for samples\n",
    "- `data/top-15-TPM.txt`: TPM of gene with top 15 TPM\n",
    "  - rows for genes, columns for samples"
   ]
  },
  {
   "cell_type": "code",
   "execution_count": 2,
   "id": "special-atmosphere",
   "metadata": {},
   "outputs": [],
   "source": [
    "top15fraction =  pd.read_csv(\"data/top-15-fraction.txt\",sep=\"\\t\",index_col=0)\n",
    "top15TPM = pd.read_csv(\"data/top-15-TPM.txt\",sep=\"\\t\",index_col=0)\n",
    "\n",
    "# Sort genes by their mean fractions in the library \n",
    "ordered_gene_ids = top15fraction.mean(axis=1).sort_values(ascending=True).index\n",
    "top15fraction = top15fraction.loc[ordered_gene_ids,:]\n",
    "top15TPM = top15TPM.loc[ordered_gene_ids,:]"
   ]
  },
  {
   "cell_type": "markdown",
   "id": "infrared-content",
   "metadata": {},
   "source": [
    "### Prepare metadata for plotting\n",
    "- `data/metadata.txt`: path of metadata\n",
    "- Field `label`: sample type\n",
    "- Field `name`: name you want to display in the figure for certain sample type"
   ]
  },
  {
   "cell_type": "code",
   "execution_count": 3,
   "id": "combined-benchmark",
   "metadata": {},
   "outputs": [],
   "source": [
    "metadata = pd.read_csv(\"data/metadata.txt\",sep=\"\\t\",index_col=0)\n",
    "name_mapping = pd.Series(dict(zip(metadata[\"label\"].values,metadata[\"name\"].values)))\n",
    "name_mapping = name_mapping.loc[sorted(name_mapping.index)]"
   ]
  },
  {
   "cell_type": "markdown",
   "id": "hazardous-dancing",
   "metadata": {},
   "source": [
    "### Plotting\n",
    "- If want to change order of sample of different classes, simply reorder `name_mapping`\n",
    "- Like this\n",
    "\n",
    "```python\n",
    "name_mapping.index\n",
    "# Index(['T1', 'T2', 'T3', 'T4', 'T5', 'T6'], dtype='object')\n",
    "name_mapping = name_mapping.loc[[ 'T6','T1', 'T2', 'T3', 'T4', 'T5']]\n",
    "```"
   ]
  },
  {
   "cell_type": "code",
   "execution_count": 4,
   "id": "alive-microwave",
   "metadata": {},
   "outputs": [
    {
     "data": {
      "image/png": "[encoded data removed]",
      "text/plain": [
       "<Figure size 288x288 with 7 Axes>"
      ]
     },
     "metadata": {
      "needs_background": "light"
     },
     "output_type": "display_data"
    }
   ],
   "source": [
    "fig,axes = plt.subplots(1,6,figsize=(4,4))\n",
    "\n",
    "# Get a blue color map\n",
    "cmap = matplotlib.cm.get_cmap(\"Blues\")\n",
    "M = top15fraction.max().mean()\n",
    "m = top15fraction.min().mean()\n",
    "sm = ScalarMappable(cmap=cmap,norm=plt.Normalize(m,M))\n",
    "\n",
    "\n",
    "for i,label in enumerate(name_mapping.index):\n",
    "    sample_ids = metadata[metadata[\"label\"]==label].index\n",
    "    sample_ids = np.intersect1d(sample_ids,top15fraction.columns)\n",
    "    \n",
    "    # Width of bar\n",
    "    mean = np.log10(top15TPM.loc[:,sample_ids]).mean(axis=1)\n",
    "    # Width of error bar\n",
    "    std = np.log10(top15TPM.loc[:,sample_ids]).std(axis=1)\n",
    "    \n",
    "    # Plotting\n",
    "    _ = axes[i].barh(y=mean.index.map(lambda x:x.split(\"|\")[1]),\n",
    "                width=mean.values,xerr=std.values,\n",
    "               edgecolor=\"black\",lw=1.2,height=0.6)\n",
    "    \n",
    "    # Map percentages to colors\n",
    "    colors = sm.to_rgba(top15fraction.loc[:,sample_ids].mean(axis=1).values)\n",
    "    \n",
    "    # Manually change color of each bar\n",
    "    for j in range(len(axes[i].patches)):\n",
    "        axes[i].patches[j].set_color(colors[j])\n",
    "        \n",
    "    _ = plt.setp(axes[i].get_xticklabels(),fontsize=12)#,weight=\"bold\")\n",
    "    _ = plt.setp(axes[i].get_yticklabels(),fontsize=12)#,weight=\"bold\")\n",
    "    axes[i].set_ylim(-0.5,14.5)\n",
    "    #ax.set_xlim(0,5)\n",
    "    axes[i].set_xlim(0,5)\n",
    "    axes[i].set_title(name_mapping.loc[label],rotation=45,ha=\"left\",rotation_mode=\"anchor\")\n",
    "    if i >0:\n",
    "        axes[i].set_yticklabels([])\n",
    "        axes[i].yaxis.set_tick_params(length=0)\n",
    "        axes[i].xaxis.set_tick_params(length=0)\n",
    "    plt.subplots_adjust(wspace=0.4)\n",
    "    \n",
    "# Set label of x axis\n",
    "fig.text(0.5, 0., \"$log_{10}TPM$\", ha='center',fontsize=16)\n",
    "\n",
    "# Manually add a color bar\n",
    "cbaxes = fig.add_axes([0.95, 0.2, 0.02, 0.6]) \n",
    "cb = plt.colorbar(sm,cax=cbaxes)\n",
    "\n",
    "# Fix tick location\n",
    "ticks_locs = cb.ax.get_yticks().tolist()\n",
    "cb.ax.yaxis.set_major_locator(ticker.FixedLocator(ticks_locs))\n",
    "yticklabels = [str(np.round(loc,2))+\" %\" for loc in ticks_locs]\n",
    "_ = cb.ax.set_yticklabels(yticklabels) \n",
    "cb.ax.tick_params(labelsize=12)\n",
    "\n",
    "# Save figure\n",
    "plt.savefig(\"top-15-genes.pdf\",bbox_inches=\"tight\")"
   ]
  },
  {
   "cell_type": "code",
   "execution_count": null,
   "id": "allied-garage",
   "metadata": {},
   "outputs": [],
   "source": []
  }
 ],
 "metadata": {
  "kernelspec": {
   "display_name": "Python 3",
   "language": "python",
   "name": "python3"
  },
  "language_info": {
   "codemirror_mode": {
    "name": "ipython",
    "version": 3
   },
   "file_extension": ".py",
   "mimetype": "text/x-python",
   "name": "python",
   "nbconvert_exporter": "python",
   "pygments_lexer": "ipython3",
   "version": "3.6.9"
  }
 },
 "nbformat": 4,
 "nbformat_minor": 5
}
