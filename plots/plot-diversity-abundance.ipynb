{
 "cells": [
  {
   "cell_type": "code",
   "execution_count": 1,
   "id": "mechanical-designer",
   "metadata": {},
   "outputs": [],
   "source": [
    "import matplotlib\n",
    "from matplotlib import pyplot as plt\n",
    "import pandas as pd\n",
    "import numpy as np\n",
    "from matplotlib import patches "
   ]
  },
  {
   "cell_type": "code",
   "execution_count": 2,
   "id": "exciting-paris",
   "metadata": {},
   "outputs": [],
   "source": [
    "def plot_abundance_diversity(diversity,abundance,orders,colors,title=\"\"):\n",
    "    diversity = diversity.T\n",
    "    abundance = abundance.T\n",
    "    \n",
    "    # Get width of bar and error bar\n",
    "    mean_diversity = diversity.mean(axis=1)\n",
    "    std_diversity = diversity.std(axis=1)\n",
    "    mean_abundance = abundance.mean(axis=1)\n",
    "    std_abundance = abundance.std(axis=1)\n",
    "    \n",
    "    fig, axes = plt.subplots(ncols=2, nrows=1,constrained_layout=True,figsize=(6,2.2))\n",
    "    # Plot diversity\n",
    "    axes[0].yaxis.set_ticks_position(\"right\")\n",
    "    axes[0].barh(orders,mean_diversity.loc[orders].values,\n",
    "                 xerr=std_diversity.loc[orders].values, \n",
    "                 ecolor='black',height=0.7,\n",
    "                 capsize=2,color=colors,edgecolor='black')\n",
    "    axes[0].set_xlim([1,18000])\n",
    "    axes[0].invert_xaxis()\n",
    "    axes[0].set_xscale(\"log\")\n",
    "    axes[0].set_xticks([1,10,100, 1000,10000])\n",
    "    axes[0].set_xlabel(\"Detected genes\",fontsize=14,fontweight=\"bold\") \n",
    "    axes[0].get_xaxis().set_major_formatter(matplotlib.ticker.ScalarFormatter())\n",
    "    axes[0].set_yticklabels([])\n",
    "    axes[0].xaxis.set_tick_params(labelsize=14,length=2)\n",
    "    axes[0].yaxis.set_tick_params(length=0)\n",
    "    \n",
    "    # Plot abundance\n",
    "    axes[1].barh(orders,mean_abundance.loc[orders].values,\n",
    "                 xerr=std_abundance.loc[orders].values,\n",
    "                 ecolor='black',height=0.7,\n",
    "                 capsize=2,color=colors,edgecolor='black')\n",
    "    axes[1].set_xlim([0,95])\n",
    "    axes[1].set_xlabel(\"Fraction (%)\",fontsize=14,fontweight=\"bold\")\n",
    "    axes[1].xaxis.set_tick_params(labelsize=14,length=2)\n",
    "    axes[1].yaxis.set_tick_params(labelsize=14,length=0)\n",
    "    axes[1].set_yticklabels([])\n",
    "\n",
    "    fig.suptitle(title, fontsize=16,fontweight=\"bold\")"
   ]
  },
  {
   "cell_type": "code",
   "execution_count": 3,
   "id": "driven-protein",
   "metadata": {},
   "outputs": [],
   "source": [
    "def plot_legend(RNAs,colors):\n",
    "    fig, ax = plt.subplots(figsize=(2,2))\n",
    "    for i,(RNA,color) in enumerate(zip(RNAs,colors)):\n",
    "        rect = patches.Rectangle((-0.5,i*1), 1, 0.5, linewidth=1, edgecolor=\"black\", facecolor=color)\n",
    "        ax.text(0.9,i*1+0.25,s=RNA,verticalalignment=\"center\",fontsize=12)\n",
    "        ax.add_patch(rect)\n",
    "    ax.set_xlim([-1,5])\n",
    "    ax.set_ylim([-1,5])\n",
    "    ax.spines['top'].set_visible(False)\n",
    "    ax.spines['right'].set_visible(False)\n",
    "    ax.spines['bottom'].set_visible(False)\n",
    "    ax.spines['left'].set_visible(False)\n",
    "    ax.set_xticks([])\n",
    "    ax.set_yticks([])"
   ]
  },
  {
   "cell_type": "markdown",
   "id": "baking-joseph",
   "metadata": {},
   "source": [
    "### Load data\n",
    "- `data/RNA-fractions.txt`: fraction of different RNA types, a sample a row, column for different RNA-types\n",
    "- `data/n-detected-genes.txt`: # of detected genes of each RNA type in each sample"
   ]
  },
  {
   "cell_type": "code",
   "execution_count": 4,
   "id": "enclosed-values",
   "metadata": {},
   "outputs": [],
   "source": [
    "RNA_fractions = pd.read_csv(\"data/RNA-fractions.txt\",sep=\"\\t\",index_col=0)\n",
    "RNA_detected = pd.read_csv(\"data/n-detected-genes.txt\",sep=\"\\t\",index_col=0)"
   ]
  },
  {
   "cell_type": "markdown",
   "id": "theoretical-impression",
   "metadata": {},
   "source": [
    "- Orders: from bottom to top"
   ]
  },
  {
   "cell_type": "code",
   "execution_count": 5,
   "id": "thousand-ready",
   "metadata": {},
   "outputs": [],
   "source": [
    "orders = ['mRNA', 'lncRNA', 'srpRNA', 'pseudogene', 'circRNA']\n",
    "colors = [\"#BC3C29\",\"#0072B5\",\"#6F99AD\",\"#909090\",\"#EE4C97\"]"
   ]
  },
  {
   "cell_type": "code",
   "execution_count": 6,
   "id": "informational-grounds",
   "metadata": {},
   "outputs": [
    {
     "data": {
      "image/png": "[encoded data removed]",
      "text/plain": [
       "<Figure size 432x158.4 with 2 Axes>"
      ]
     },
     "metadata": {
      "needs_background": "light"
     },
     "output_type": "display_data"
    }
   ],
   "source": [
    "plot_abundance_diversity(RNA_detected,RNA_fractions,orders=orders,colors=colors,title=\"All Samples\")\n",
    "plt.savefig(\"abundance-diversity.pdf\",bbox_inches=\"tight\")"
   ]
  },
  {
   "cell_type": "code",
   "execution_count": 6,
   "id": "incorporated-timothy",
   "metadata": {},
   "outputs": [
    {
     "data": {
      "image/png": "[encoded data removed]",
      "text/plain": [
       "<Figure size 144x144 with 1 Axes>"
      ]
     },
     "metadata": {},
     "output_type": "display_data"
    }
   ],
   "source": [
    "plot_legend(orders,colors)\n",
    "plt.savefig(\"abundance-diversity-legend.pdf\",bbox_inches=\"tight\")"
   ]
  },
  {
   "cell_type": "code",
   "execution_count": 7,
   "id": "detected-novelty",
   "metadata": {},
   "outputs": [
    {
     "data": {
      "image/png": "[encoded data removed]",
      "text/plain": [
       "<Figure size 144x144 with 1 Axes>"
      ]
     },
     "metadata": {},
     "output_type": "display_data"
    }
   ],
   "source": [
    "plot_legend(orders[::-1],colors[::-1])"
   ]
  },
  {
   "cell_type": "code",
   "execution_count": null,
   "id": "assisted-elder",
   "metadata": {},
   "outputs": [],
   "source": []
  }
 ],
 "metadata": {
  "kernelspec": {
   "display_name": "Python 3",
   "language": "python",
   "name": "python3"
  },
  "language_info": {
   "codemirror_mode": {
    "name": "ipython",
    "version": 3
   },
   "file_extension": ".py",
   "mimetype": "text/x-python",
   "name": "python",
   "nbconvert_exporter": "python",
   "pygments_lexer": "ipython3",
   "version": "3.6.9"
  }
 },
 "nbformat": 4,
 "nbformat_minor": 5
}
